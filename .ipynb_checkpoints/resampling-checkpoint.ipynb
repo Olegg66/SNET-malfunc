{
 "cells": [
  {
   "cell_type": "code",
   "execution_count": null,
   "id": "4759f6d0-1d69-44fd-a0dd-577454438258",
   "metadata": {},
   "outputs": [],
   "source": [
    "import numpy as np\n",
    "import pandas as pd\n",
    "from scipy import signal\n",
    "\n",
    "def createpres(p, resamplelen):\n",
    "    p = signal.resample(p, 336).tolist() #336 - длительность сигнала в часах\n",
    "    return p\n",
    "\n",
    "names = pd.read_csv(r'channels.tbl.20250303', delimiter=' ')\n",
    "\n",
    "pathtopressure = r'path to your raw data'\n",
    "\n",
    "names = names.T.values.tolist()\n",
    "presnames = names[0]\n",
    "num_stations = len(names[0])\n",
    "resamplelen = 3600 # изменение частоты в 3600 раз: с 10Гц до час^-1\n",
    "pressure_n = []\n",
    "\n",
    "for i in range(num_stations):\n",
    "    pressure_n = createpres(pd.read_csv(pathtopressure + presnames[i] + '.dat', delimiter='\\t'), resamplelen)\n",
    "    np.savetxt(r'data' + presnames[i] + '.dat', pressure_n, delimiter='\\t')"
   ]
  }
 ],
 "metadata": {
  "kernelspec": {
   "display_name": "Python 3 (ipykernel)",
   "language": "python",
   "name": "python3"
  },
  "language_info": {
   "codemirror_mode": {
    "name": "ipython",
    "version": 3
   },
   "file_extension": ".py",
   "mimetype": "text/x-python",
   "name": "python",
   "nbconvert_exporter": "python",
   "pygments_lexer": "ipython3",
   "version": "3.12.0"
  }
 },
 "nbformat": 4,
 "nbformat_minor": 5
}
